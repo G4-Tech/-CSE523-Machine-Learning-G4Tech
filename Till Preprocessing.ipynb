{
 "cells": [
  {
   "cell_type": "code",
   "execution_count": 1,
   "metadata": {},
   "outputs": [],
   "source": [
    "import pandas as pd\n",
    "import numpy as np\n",
    "from matplotlib import pyplot as plt\n",
    "%matplotlib inline\n",
    "import matplotlib\n",
    "import math\n",
    "matplotlib.rcParams[\"figure.figsize\"]=(20,10)"
   ]
  },
  {
   "cell_type": "code",
   "execution_count": 2,
   "metadata": {},
   "outputs": [],
   "source": [
    "df_new = pd.read_csv(\"2020/october/yellow_tripdata_2020-10.csv\" , low_memory=False)"
   ]
  },
  {
   "cell_type": "code",
   "execution_count": 3,
   "metadata": {
    "scrolled": true
   },
   "outputs": [],
   "source": [
    "df = df_new.dropna()"
   ]
  },
  {
   "cell_type": "code",
   "execution_count": 4,
   "metadata": {},
   "outputs": [
    {
     "data": {
      "text/html": [
       "<div>\n",
       "<style scoped>\n",
       "    .dataframe tbody tr th:only-of-type {\n",
       "        vertical-align: middle;\n",
       "    }\n",
       "\n",
       "    .dataframe tbody tr th {\n",
       "        vertical-align: top;\n",
       "    }\n",
       "\n",
       "    .dataframe thead th {\n",
       "        text-align: right;\n",
       "    }\n",
       "</style>\n",
       "<table border=\"1\" class=\"dataframe\">\n",
       "  <thead>\n",
       "    <tr style=\"text-align: right;\">\n",
       "      <th></th>\n",
       "      <th>VendorID</th>\n",
       "      <th>tpep_pickup_datetime</th>\n",
       "      <th>tpep_dropoff_datetime</th>\n",
       "      <th>passenger_count</th>\n",
       "      <th>trip_distance</th>\n",
       "      <th>RatecodeID</th>\n",
       "      <th>store_and_fwd_flag</th>\n",
       "      <th>PULocationID</th>\n",
       "      <th>DOLocationID</th>\n",
       "      <th>payment_type</th>\n",
       "      <th>fare_amount</th>\n",
       "      <th>extra</th>\n",
       "      <th>mta_tax</th>\n",
       "      <th>tip_amount</th>\n",
       "      <th>tolls_amount</th>\n",
       "      <th>improvement_surcharge</th>\n",
       "      <th>total_amount</th>\n",
       "      <th>congestion_surcharge</th>\n",
       "    </tr>\n",
       "  </thead>\n",
       "  <tbody>\n",
       "    <tr>\n",
       "      <th>0</th>\n",
       "      <td>1.0</td>\n",
       "      <td>2020-10-01 00:09:08</td>\n",
       "      <td>2020-10-01 00:11:05</td>\n",
       "      <td>1.0</td>\n",
       "      <td>0.00</td>\n",
       "      <td>1.0</td>\n",
       "      <td>N</td>\n",
       "      <td>145</td>\n",
       "      <td>145</td>\n",
       "      <td>2.0</td>\n",
       "      <td>3.0</td>\n",
       "      <td>0.5</td>\n",
       "      <td>0.5</td>\n",
       "      <td>0.00</td>\n",
       "      <td>0.0</td>\n",
       "      <td>0.3</td>\n",
       "      <td>4.30</td>\n",
       "      <td>0.0</td>\n",
       "    </tr>\n",
       "    <tr>\n",
       "      <th>1</th>\n",
       "      <td>1.0</td>\n",
       "      <td>2020-10-01 00:09:19</td>\n",
       "      <td>2020-10-01 00:19:46</td>\n",
       "      <td>1.0</td>\n",
       "      <td>2.00</td>\n",
       "      <td>1.0</td>\n",
       "      <td>Y</td>\n",
       "      <td>238</td>\n",
       "      <td>143</td>\n",
       "      <td>2.0</td>\n",
       "      <td>9.5</td>\n",
       "      <td>3.0</td>\n",
       "      <td>0.5</td>\n",
       "      <td>0.00</td>\n",
       "      <td>0.0</td>\n",
       "      <td>0.3</td>\n",
       "      <td>13.30</td>\n",
       "      <td>2.5</td>\n",
       "    </tr>\n",
       "    <tr>\n",
       "      <th>2</th>\n",
       "      <td>1.0</td>\n",
       "      <td>2020-10-01 00:30:00</td>\n",
       "      <td>2020-10-01 00:39:05</td>\n",
       "      <td>1.0</td>\n",
       "      <td>2.10</td>\n",
       "      <td>1.0</td>\n",
       "      <td>N</td>\n",
       "      <td>264</td>\n",
       "      <td>230</td>\n",
       "      <td>1.0</td>\n",
       "      <td>9.0</td>\n",
       "      <td>3.0</td>\n",
       "      <td>0.5</td>\n",
       "      <td>2.56</td>\n",
       "      <td>0.0</td>\n",
       "      <td>0.3</td>\n",
       "      <td>15.36</td>\n",
       "      <td>2.5</td>\n",
       "    </tr>\n",
       "    <tr>\n",
       "      <th>3</th>\n",
       "      <td>2.0</td>\n",
       "      <td>2020-10-01 00:56:46</td>\n",
       "      <td>2020-10-01 00:57:10</td>\n",
       "      <td>1.0</td>\n",
       "      <td>0.00</td>\n",
       "      <td>1.0</td>\n",
       "      <td>N</td>\n",
       "      <td>264</td>\n",
       "      <td>152</td>\n",
       "      <td>3.0</td>\n",
       "      <td>-2.5</td>\n",
       "      <td>-0.5</td>\n",
       "      <td>-0.5</td>\n",
       "      <td>0.00</td>\n",
       "      <td>0.0</td>\n",
       "      <td>-0.3</td>\n",
       "      <td>-3.80</td>\n",
       "      <td>0.0</td>\n",
       "    </tr>\n",
       "    <tr>\n",
       "      <th>4</th>\n",
       "      <td>2.0</td>\n",
       "      <td>2020-10-01 00:56:46</td>\n",
       "      <td>2020-10-01 00:57:10</td>\n",
       "      <td>1.0</td>\n",
       "      <td>0.00</td>\n",
       "      <td>1.0</td>\n",
       "      <td>N</td>\n",
       "      <td>264</td>\n",
       "      <td>152</td>\n",
       "      <td>1.0</td>\n",
       "      <td>2.5</td>\n",
       "      <td>0.5</td>\n",
       "      <td>0.5</td>\n",
       "      <td>0.00</td>\n",
       "      <td>0.0</td>\n",
       "      <td>0.3</td>\n",
       "      <td>3.80</td>\n",
       "      <td>0.0</td>\n",
       "    </tr>\n",
       "    <tr>\n",
       "      <th>...</th>\n",
       "      <td>...</td>\n",
       "      <td>...</td>\n",
       "      <td>...</td>\n",
       "      <td>...</td>\n",
       "      <td>...</td>\n",
       "      <td>...</td>\n",
       "      <td>...</td>\n",
       "      <td>...</td>\n",
       "      <td>...</td>\n",
       "      <td>...</td>\n",
       "      <td>...</td>\n",
       "      <td>...</td>\n",
       "      <td>...</td>\n",
       "      <td>...</td>\n",
       "      <td>...</td>\n",
       "      <td>...</td>\n",
       "      <td>...</td>\n",
       "      <td>...</td>\n",
       "    </tr>\n",
       "    <tr>\n",
       "      <th>1575213</th>\n",
       "      <td>2.0</td>\n",
       "      <td>2020-10-31 23:11:43</td>\n",
       "      <td>2020-10-31 23:15:21</td>\n",
       "      <td>1.0</td>\n",
       "      <td>0.83</td>\n",
       "      <td>1.0</td>\n",
       "      <td>N</td>\n",
       "      <td>262</td>\n",
       "      <td>236</td>\n",
       "      <td>1.0</td>\n",
       "      <td>5.0</td>\n",
       "      <td>0.5</td>\n",
       "      <td>0.5</td>\n",
       "      <td>1.20</td>\n",
       "      <td>0.0</td>\n",
       "      <td>0.3</td>\n",
       "      <td>10.00</td>\n",
       "      <td>2.5</td>\n",
       "    </tr>\n",
       "    <tr>\n",
       "      <th>1575214</th>\n",
       "      <td>2.0</td>\n",
       "      <td>2020-10-31 23:19:11</td>\n",
       "      <td>2020-10-31 23:19:39</td>\n",
       "      <td>1.0</td>\n",
       "      <td>0.12</td>\n",
       "      <td>1.0</td>\n",
       "      <td>N</td>\n",
       "      <td>236</td>\n",
       "      <td>43</td>\n",
       "      <td>2.0</td>\n",
       "      <td>2.5</td>\n",
       "      <td>0.5</td>\n",
       "      <td>0.5</td>\n",
       "      <td>0.00</td>\n",
       "      <td>0.0</td>\n",
       "      <td>0.3</td>\n",
       "      <td>6.30</td>\n",
       "      <td>2.5</td>\n",
       "    </tr>\n",
       "    <tr>\n",
       "      <th>1575215</th>\n",
       "      <td>2.0</td>\n",
       "      <td>2020-10-31 23:30:11</td>\n",
       "      <td>2020-11-01 00:06:20</td>\n",
       "      <td>1.0</td>\n",
       "      <td>7.37</td>\n",
       "      <td>1.0</td>\n",
       "      <td>N</td>\n",
       "      <td>239</td>\n",
       "      <td>25</td>\n",
       "      <td>1.0</td>\n",
       "      <td>28.5</td>\n",
       "      <td>0.5</td>\n",
       "      <td>0.5</td>\n",
       "      <td>8.07</td>\n",
       "      <td>0.0</td>\n",
       "      <td>0.3</td>\n",
       "      <td>40.37</td>\n",
       "      <td>2.5</td>\n",
       "    </tr>\n",
       "    <tr>\n",
       "      <th>1575216</th>\n",
       "      <td>2.0</td>\n",
       "      <td>2020-10-31 23:09:36</td>\n",
       "      <td>2020-10-31 23:15:34</td>\n",
       "      <td>2.0</td>\n",
       "      <td>1.35</td>\n",
       "      <td>1.0</td>\n",
       "      <td>N</td>\n",
       "      <td>262</td>\n",
       "      <td>140</td>\n",
       "      <td>1.0</td>\n",
       "      <td>6.5</td>\n",
       "      <td>0.5</td>\n",
       "      <td>0.5</td>\n",
       "      <td>1.50</td>\n",
       "      <td>0.0</td>\n",
       "      <td>0.3</td>\n",
       "      <td>11.80</td>\n",
       "      <td>2.5</td>\n",
       "    </tr>\n",
       "    <tr>\n",
       "      <th>1575217</th>\n",
       "      <td>2.0</td>\n",
       "      <td>2020-10-31 23:32:03</td>\n",
       "      <td>2020-10-31 23:41:56</td>\n",
       "      <td>1.0</td>\n",
       "      <td>3.68</td>\n",
       "      <td>1.0</td>\n",
       "      <td>N</td>\n",
       "      <td>140</td>\n",
       "      <td>79</td>\n",
       "      <td>1.0</td>\n",
       "      <td>12.5</td>\n",
       "      <td>0.5</td>\n",
       "      <td>0.5</td>\n",
       "      <td>3.00</td>\n",
       "      <td>0.0</td>\n",
       "      <td>0.3</td>\n",
       "      <td>19.30</td>\n",
       "      <td>2.5</td>\n",
       "    </tr>\n",
       "  </tbody>\n",
       "</table>\n",
       "<p>1575218 rows × 18 columns</p>\n",
       "</div>"
      ],
      "text/plain": [
       "         VendorID tpep_pickup_datetime tpep_dropoff_datetime  passenger_count  \\\n",
       "0             1.0  2020-10-01 00:09:08   2020-10-01 00:11:05              1.0   \n",
       "1             1.0  2020-10-01 00:09:19   2020-10-01 00:19:46              1.0   \n",
       "2             1.0  2020-10-01 00:30:00   2020-10-01 00:39:05              1.0   \n",
       "3             2.0  2020-10-01 00:56:46   2020-10-01 00:57:10              1.0   \n",
       "4             2.0  2020-10-01 00:56:46   2020-10-01 00:57:10              1.0   \n",
       "...           ...                  ...                   ...              ...   \n",
       "1575213       2.0  2020-10-31 23:11:43   2020-10-31 23:15:21              1.0   \n",
       "1575214       2.0  2020-10-31 23:19:11   2020-10-31 23:19:39              1.0   \n",
       "1575215       2.0  2020-10-31 23:30:11   2020-11-01 00:06:20              1.0   \n",
       "1575216       2.0  2020-10-31 23:09:36   2020-10-31 23:15:34              2.0   \n",
       "1575217       2.0  2020-10-31 23:32:03   2020-10-31 23:41:56              1.0   \n",
       "\n",
       "         trip_distance  RatecodeID store_and_fwd_flag  PULocationID  \\\n",
       "0                 0.00         1.0                  N           145   \n",
       "1                 2.00         1.0                  Y           238   \n",
       "2                 2.10         1.0                  N           264   \n",
       "3                 0.00         1.0                  N           264   \n",
       "4                 0.00         1.0                  N           264   \n",
       "...                ...         ...                ...           ...   \n",
       "1575213           0.83         1.0                  N           262   \n",
       "1575214           0.12         1.0                  N           236   \n",
       "1575215           7.37         1.0                  N           239   \n",
       "1575216           1.35         1.0                  N           262   \n",
       "1575217           3.68         1.0                  N           140   \n",
       "\n",
       "         DOLocationID  payment_type  fare_amount  extra  mta_tax  tip_amount  \\\n",
       "0                 145           2.0          3.0    0.5      0.5        0.00   \n",
       "1                 143           2.0          9.5    3.0      0.5        0.00   \n",
       "2                 230           1.0          9.0    3.0      0.5        2.56   \n",
       "3                 152           3.0         -2.5   -0.5     -0.5        0.00   \n",
       "4                 152           1.0          2.5    0.5      0.5        0.00   \n",
       "...               ...           ...          ...    ...      ...         ...   \n",
       "1575213           236           1.0          5.0    0.5      0.5        1.20   \n",
       "1575214            43           2.0          2.5    0.5      0.5        0.00   \n",
       "1575215            25           1.0         28.5    0.5      0.5        8.07   \n",
       "1575216           140           1.0          6.5    0.5      0.5        1.50   \n",
       "1575217            79           1.0         12.5    0.5      0.5        3.00   \n",
       "\n",
       "         tolls_amount  improvement_surcharge  total_amount  \\\n",
       "0                 0.0                    0.3          4.30   \n",
       "1                 0.0                    0.3         13.30   \n",
       "2                 0.0                    0.3         15.36   \n",
       "3                 0.0                   -0.3         -3.80   \n",
       "4                 0.0                    0.3          3.80   \n",
       "...               ...                    ...           ...   \n",
       "1575213           0.0                    0.3         10.00   \n",
       "1575214           0.0                    0.3          6.30   \n",
       "1575215           0.0                    0.3         40.37   \n",
       "1575216           0.0                    0.3         11.80   \n",
       "1575217           0.0                    0.3         19.30   \n",
       "\n",
       "         congestion_surcharge  \n",
       "0                         0.0  \n",
       "1                         2.5  \n",
       "2                         2.5  \n",
       "3                         0.0  \n",
       "4                         0.0  \n",
       "...                       ...  \n",
       "1575213                   2.5  \n",
       "1575214                   2.5  \n",
       "1575215                   2.5  \n",
       "1575216                   2.5  \n",
       "1575217                   2.5  \n",
       "\n",
       "[1575218 rows x 18 columns]"
      ]
     },
     "execution_count": 4,
     "metadata": {},
     "output_type": "execute_result"
    }
   ],
   "source": [
    "df"
   ]
  },
  {
   "cell_type": "code",
   "execution_count": 5,
   "metadata": {},
   "outputs": [
    {
     "data": {
      "text/plain": [
       "count    1.575218e+06\n",
       "mean     1.027878e+00\n",
       "std      5.614400e-01\n",
       "min      1.000000e+00\n",
       "25%      1.000000e+00\n",
       "50%      1.000000e+00\n",
       "75%      1.000000e+00\n",
       "max      9.900000e+01\n",
       "Name: RatecodeID, dtype: float64"
      ]
     },
     "execution_count": 5,
     "metadata": {},
     "output_type": "execute_result"
    }
   ],
   "source": [
    "df.RatecodeID.describe()"
   ]
  },
  {
   "cell_type": "code",
   "execution_count": 6,
   "metadata": {},
   "outputs": [
    {
     "data": {
      "image/png": "[encoded data removed]",
      "text/plain": [
       "<Figure size 1440x720 with 1 Axes>"
      ]
     },
     "metadata": {
      "needs_background": "light"
     },
     "output_type": "display_data"
    }
   ],
   "source": [
    "import matplotlib.pyplot as plt\n",
    "\n",
    "\n",
    "plt.scatter(df.total_amount, df.trip_distance)\n",
    "plt.xlabel('total_amount')\n",
    "plt.ylabel('trip_distance')\n",
    "plt.title('t v d')\n",
    "plt.show()"
   ]
  },
  {
   "cell_type": "code",
   "execution_count": null,
   "metadata": {},
   "outputs": [],
   "source": []
  },
  {
   "cell_type": "code",
   "execution_count": 7,
   "metadata": {
    "scrolled": true
   },
   "outputs": [
    {
     "data": {
      "text/plain": [
       "count    1.575218e+06\n",
       "mean     2.535423e+00\n",
       "std      7.941405e+01\n",
       "min      0.000000e+00\n",
       "25%      1.000000e+00\n",
       "50%      1.610000e+00\n",
       "75%      2.740000e+00\n",
       "max      9.960311e+04\n",
       "Name: trip_distance, dtype: float64"
      ]
     },
     "execution_count": 7,
     "metadata": {},
     "output_type": "execute_result"
    }
   ],
   "source": [
    "df.trip_distance.describe()"
   ]
  },
  {
   "cell_type": "code",
   "execution_count": 8,
   "metadata": {},
   "outputs": [
    {
     "data": {
      "text/plain": [
       "(1575218, 18)"
      ]
     },
     "execution_count": 8,
     "metadata": {},
     "output_type": "execute_result"
    }
   ],
   "source": [
    "df.shape"
   ]
  },
  {
   "cell_type": "code",
   "execution_count": 9,
   "metadata": {},
   "outputs": [
    {
     "data": {
      "text/plain": [
       "(1510521, 18)"
      ]
     },
     "execution_count": 9,
     "metadata": {},
     "output_type": "execute_result"
    }
   ],
   "source": [
    "def remove_pps_outliers(df):\n",
    "    df_out = pd.DataFrame()\n",
    "    for key, subdf in df.groupby('VendorID'):\n",
    "        m = np.mean(subdf.trip_distance)\n",
    "        st = np.std(subdf.trip_distance)\n",
    "        reduced_df = subdf[(subdf.trip_distance> 0 ) & (subdf.trip_distance<=(m+st))]\n",
    "        df_out = pd.concat([df_out,reduced_df],ignore_index=True)\n",
    "    return df_out\n",
    "df2 = remove_pps_outliers(df)\n",
    "df2.shape"
   ]
  },
  {
   "cell_type": "code",
   "execution_count": 10,
   "metadata": {},
   "outputs": [
    {
     "data": {
      "text/plain": [
       "count    1.510521e+06\n",
       "mean     2.309853e+00\n",
       "std      2.632248e+00\n",
       "min      1.000000e-02\n",
       "25%      1.000000e+00\n",
       "50%      1.600000e+00\n",
       "75%      2.630000e+00\n",
       "max      9.831000e+01\n",
       "Name: trip_distance, dtype: float64"
      ]
     },
     "execution_count": 10,
     "metadata": {},
     "output_type": "execute_result"
    }
   ],
   "source": [
    "df2.trip_distance.describe()"
   ]
  },
  {
   "cell_type": "code",
   "execution_count": 11,
   "metadata": {},
   "outputs": [
    {
     "data": {
      "image/png": "[encoded data removed]",
      "text/plain": [
       "<Figure size 1440x720 with 1 Axes>"
      ]
     },
     "metadata": {
      "needs_background": "light"
     },
     "output_type": "display_data"
    }
   ],
   "source": [
    "import matplotlib.pyplot as plt\n",
    "import matplotlib as mpl\n",
    "mpl.rcParams['agg.path.chunksize'] = 10000\n",
    "\n",
    "plt.scatter(df2.total_amount, df2.trip_distance)\n",
    "plt.xlabel('total_amount')\n",
    "plt.ylabel('trip_distance')\n",
    "plt.title('t v d')\n",
    "plt.show()"
   ]
  },
  {
   "cell_type": "code",
   "execution_count": 12,
   "metadata": {},
   "outputs": [
    {
     "data": {
      "text/plain": [
       "(1409618, 18)"
      ]
     },
     "execution_count": 12,
     "metadata": {},
     "output_type": "execute_result"
    }
   ],
   "source": [
    "def remove_pps_outliers(df2):\n",
    "    df_out = pd.DataFrame()\n",
    "    for key, subdf2 in df2.groupby('VendorID'):\n",
    "        m = np.mean(subdf2.total_amount)\n",
    "        st = np.std(subdf2.total_amount)\n",
    "        reduced_df = subdf2[(subdf2.total_amount> 0 ) & (subdf2.total_amount<=(m+st))]\n",
    "        df_out = pd.concat([df_out,reduced_df],ignore_index=True)\n",
    "    return df_out\n",
    "df3 = remove_pps_outliers(df2)\n",
    "df3.shape"
   ]
  },
  {
   "cell_type": "code",
   "execution_count": 13,
   "metadata": {},
   "outputs": [
    {
     "data": {
      "text/plain": [
       "count    1.409618e+06\n",
       "mean     1.420318e+01\n",
       "std      4.768008e+00\n",
       "min      3.000000e-01\n",
       "25%      1.080000e+01\n",
       "50%      1.330000e+01\n",
       "75%      1.680000e+01\n",
       "max      6.553000e+02\n",
       "Name: total_amount, dtype: float64"
      ]
     },
     "execution_count": 13,
     "metadata": {},
     "output_type": "execute_result"
    }
   ],
   "source": [
    "df3.total_amount.describe()"
   ]
  },
  {
   "cell_type": "code",
   "execution_count": 14,
   "metadata": {},
   "outputs": [
    {
     "data": {
      "image/png": "[encoded data removed]",
      "text/plain": [
       "<Figure size 1440x720 with 1 Axes>"
      ]
     },
     "metadata": {
      "needs_background": "light"
     },
     "output_type": "display_data"
    }
   ],
   "source": [
    "import matplotlib.pyplot as plt\n",
    "import matplotlib as mpl\n",
    "mpl.rcParams['agg.path.chunksize'] = 10000\n",
    "\n",
    "plt.scatter(df3.total_amount, df3.trip_distance)\n",
    "plt.xlabel('total_amount')\n",
    "plt.ylabel('trip_distance')\n",
    "plt.title('t v d')\n",
    "plt.show()"
   ]
  },
  {
   "cell_type": "code",
   "execution_count": 15,
   "metadata": {},
   "outputs": [
    {
     "data": {
      "text/plain": [
       "count    1.409618e+06\n",
       "mean     1.004001e+00\n",
       "std      3.557331e-01\n",
       "min      1.000000e+00\n",
       "25%      1.000000e+00\n",
       "50%      1.000000e+00\n",
       "75%      1.000000e+00\n",
       "max      9.900000e+01\n",
       "Name: RatecodeID, dtype: float64"
      ]
     },
     "execution_count": 15,
     "metadata": {},
     "output_type": "execute_result"
    }
   ],
   "source": [
    "df3.RatecodeID.describe()"
   ]
  },
  {
   "cell_type": "code",
   "execution_count": 16,
   "metadata": {},
   "outputs": [
    {
     "data": {
      "text/plain": [
       "(1409618, 18)"
      ]
     },
     "execution_count": 16,
     "metadata": {},
     "output_type": "execute_result"
    }
   ],
   "source": [
    "def remove_pps_outliers(df3):\n",
    "    df_out = pd.DataFrame()\n",
    "    for key, subdf3 in df3.groupby('RatecodeID'):\n",
    "        m = np.mean(subdf3.RatecodeID)\n",
    "        st = np.std(subdf3.RatecodeID)\n",
    "        reduced_df = subdf3[(subdf3.RatecodeID> 0 ) & (subdf3.RatecodeID<=(m+st))]\n",
    "        df_out = pd.concat([df_out,reduced_df],ignore_index=True)\n",
    "    return df_out\n",
    "df4 = remove_pps_outliers(df3)\n",
    "df4.shape"
   ]
  },
  {
   "cell_type": "code",
   "execution_count": 17,
   "metadata": {},
   "outputs": [
    {
     "data": {
      "text/plain": [
       "count    1.409618e+06\n",
       "mean     1.004001e+00\n",
       "std      3.557331e-01\n",
       "min      1.000000e+00\n",
       "25%      1.000000e+00\n",
       "50%      1.000000e+00\n",
       "75%      1.000000e+00\n",
       "max      9.900000e+01\n",
       "Name: RatecodeID, dtype: float64"
      ]
     },
     "execution_count": 17,
     "metadata": {},
     "output_type": "execute_result"
    }
   ],
   "source": [
    "df4.RatecodeID.describe()"
   ]
  },
  {
   "cell_type": "code",
   "execution_count": 18,
   "metadata": {},
   "outputs": [
    {
     "data": {
      "text/html": [
       "<div>\n",
       "<style scoped>\n",
       "    .dataframe tbody tr th:only-of-type {\n",
       "        vertical-align: middle;\n",
       "    }\n",
       "\n",
       "    .dataframe tbody tr th {\n",
       "        vertical-align: top;\n",
       "    }\n",
       "\n",
       "    .dataframe thead th {\n",
       "        text-align: right;\n",
       "    }\n",
       "</style>\n",
       "<table border=\"1\" class=\"dataframe\">\n",
       "  <thead>\n",
       "    <tr style=\"text-align: right;\">\n",
       "      <th></th>\n",
       "      <th>VendorID</th>\n",
       "      <th>tpep_pickup_datetime</th>\n",
       "      <th>tpep_dropoff_datetime</th>\n",
       "      <th>passenger_count</th>\n",
       "      <th>trip_distance</th>\n",
       "      <th>RatecodeID</th>\n",
       "      <th>store_and_fwd_flag</th>\n",
       "      <th>PULocationID</th>\n",
       "      <th>DOLocationID</th>\n",
       "      <th>payment_type</th>\n",
       "      <th>fare_amount</th>\n",
       "      <th>extra</th>\n",
       "      <th>mta_tax</th>\n",
       "      <th>tip_amount</th>\n",
       "      <th>tolls_amount</th>\n",
       "      <th>improvement_surcharge</th>\n",
       "      <th>total_amount</th>\n",
       "      <th>congestion_surcharge</th>\n",
       "    </tr>\n",
       "  </thead>\n",
       "  <tbody>\n",
       "    <tr>\n",
       "      <th>0</th>\n",
       "      <td>1.0</td>\n",
       "      <td>2020-10-01 00:09:19</td>\n",
       "      <td>2020-10-01 00:19:46</td>\n",
       "      <td>1.0</td>\n",
       "      <td>2.00</td>\n",
       "      <td>1.0</td>\n",
       "      <td>Y</td>\n",
       "      <td>238</td>\n",
       "      <td>143</td>\n",
       "      <td>2.0</td>\n",
       "      <td>9.5</td>\n",
       "      <td>3.0</td>\n",
       "      <td>0.5</td>\n",
       "      <td>0.00</td>\n",
       "      <td>0.0</td>\n",
       "      <td>0.3</td>\n",
       "      <td>13.30</td>\n",
       "      <td>2.5</td>\n",
       "    </tr>\n",
       "    <tr>\n",
       "      <th>1</th>\n",
       "      <td>1.0</td>\n",
       "      <td>2020-10-01 00:30:00</td>\n",
       "      <td>2020-10-01 00:39:05</td>\n",
       "      <td>1.0</td>\n",
       "      <td>2.10</td>\n",
       "      <td>1.0</td>\n",
       "      <td>N</td>\n",
       "      <td>264</td>\n",
       "      <td>230</td>\n",
       "      <td>1.0</td>\n",
       "      <td>9.0</td>\n",
       "      <td>3.0</td>\n",
       "      <td>0.5</td>\n",
       "      <td>2.56</td>\n",
       "      <td>0.0</td>\n",
       "      <td>0.3</td>\n",
       "      <td>15.36</td>\n",
       "      <td>2.5</td>\n",
       "    </tr>\n",
       "    <tr>\n",
       "      <th>2</th>\n",
       "      <td>1.0</td>\n",
       "      <td>2020-10-01 00:31:00</td>\n",
       "      <td>2020-10-01 00:37:58</td>\n",
       "      <td>1.0</td>\n",
       "      <td>1.50</td>\n",
       "      <td>1.0</td>\n",
       "      <td>N</td>\n",
       "      <td>95</td>\n",
       "      <td>102</td>\n",
       "      <td>2.0</td>\n",
       "      <td>7.5</td>\n",
       "      <td>0.5</td>\n",
       "      <td>0.5</td>\n",
       "      <td>0.00</td>\n",
       "      <td>0.0</td>\n",
       "      <td>0.3</td>\n",
       "      <td>8.80</td>\n",
       "      <td>0.0</td>\n",
       "    </tr>\n",
       "    <tr>\n",
       "      <th>3</th>\n",
       "      <td>1.0</td>\n",
       "      <td>2020-10-01 00:37:04</td>\n",
       "      <td>2020-10-01 00:39:07</td>\n",
       "      <td>0.0</td>\n",
       "      <td>0.80</td>\n",
       "      <td>1.0</td>\n",
       "      <td>N</td>\n",
       "      <td>239</td>\n",
       "      <td>238</td>\n",
       "      <td>1.0</td>\n",
       "      <td>4.5</td>\n",
       "      <td>3.0</td>\n",
       "      <td>0.5</td>\n",
       "      <td>1.65</td>\n",
       "      <td>0.0</td>\n",
       "      <td>0.3</td>\n",
       "      <td>9.95</td>\n",
       "      <td>2.5</td>\n",
       "    </tr>\n",
       "    <tr>\n",
       "      <th>4</th>\n",
       "      <td>1.0</td>\n",
       "      <td>2020-10-01 00:38:44</td>\n",
       "      <td>2020-10-01 00:51:40</td>\n",
       "      <td>1.0</td>\n",
       "      <td>3.80</td>\n",
       "      <td>1.0</td>\n",
       "      <td>N</td>\n",
       "      <td>141</td>\n",
       "      <td>260</td>\n",
       "      <td>2.0</td>\n",
       "      <td>13.0</td>\n",
       "      <td>3.0</td>\n",
       "      <td>0.5</td>\n",
       "      <td>0.00</td>\n",
       "      <td>0.0</td>\n",
       "      <td>0.3</td>\n",
       "      <td>16.80</td>\n",
       "      <td>2.5</td>\n",
       "    </tr>\n",
       "    <tr>\n",
       "      <th>...</th>\n",
       "      <td>...</td>\n",
       "      <td>...</td>\n",
       "      <td>...</td>\n",
       "      <td>...</td>\n",
       "      <td>...</td>\n",
       "      <td>...</td>\n",
       "      <td>...</td>\n",
       "      <td>...</td>\n",
       "      <td>...</td>\n",
       "      <td>...</td>\n",
       "      <td>...</td>\n",
       "      <td>...</td>\n",
       "      <td>...</td>\n",
       "      <td>...</td>\n",
       "      <td>...</td>\n",
       "      <td>...</td>\n",
       "      <td>...</td>\n",
       "      <td>...</td>\n",
       "    </tr>\n",
       "    <tr>\n",
       "      <th>1409613</th>\n",
       "      <td>2.0</td>\n",
       "      <td>2020-10-27 12:44:48</td>\n",
       "      <td>2020-10-27 12:54:42</td>\n",
       "      <td>1.0</td>\n",
       "      <td>0.83</td>\n",
       "      <td>99.0</td>\n",
       "      <td>N</td>\n",
       "      <td>246</td>\n",
       "      <td>186</td>\n",
       "      <td>2.0</td>\n",
       "      <td>7.5</td>\n",
       "      <td>0.0</td>\n",
       "      <td>0.5</td>\n",
       "      <td>0.00</td>\n",
       "      <td>0.0</td>\n",
       "      <td>0.3</td>\n",
       "      <td>10.80</td>\n",
       "      <td>2.5</td>\n",
       "    </tr>\n",
       "    <tr>\n",
       "      <th>1409614</th>\n",
       "      <td>2.0</td>\n",
       "      <td>2020-10-28 07:52:13</td>\n",
       "      <td>2020-10-28 07:58:51</td>\n",
       "      <td>1.0</td>\n",
       "      <td>0.97</td>\n",
       "      <td>99.0</td>\n",
       "      <td>N</td>\n",
       "      <td>166</td>\n",
       "      <td>43</td>\n",
       "      <td>2.0</td>\n",
       "      <td>6.0</td>\n",
       "      <td>0.0</td>\n",
       "      <td>0.5</td>\n",
       "      <td>0.00</td>\n",
       "      <td>0.0</td>\n",
       "      <td>0.3</td>\n",
       "      <td>6.80</td>\n",
       "      <td>0.0</td>\n",
       "    </tr>\n",
       "    <tr>\n",
       "      <th>1409615</th>\n",
       "      <td>2.0</td>\n",
       "      <td>2020-10-29 10:50:33</td>\n",
       "      <td>2020-10-29 11:06:54</td>\n",
       "      <td>1.0</td>\n",
       "      <td>1.93</td>\n",
       "      <td>99.0</td>\n",
       "      <td>N</td>\n",
       "      <td>230</td>\n",
       "      <td>107</td>\n",
       "      <td>2.0</td>\n",
       "      <td>11.5</td>\n",
       "      <td>0.0</td>\n",
       "      <td>0.5</td>\n",
       "      <td>0.00</td>\n",
       "      <td>0.0</td>\n",
       "      <td>0.3</td>\n",
       "      <td>14.80</td>\n",
       "      <td>2.5</td>\n",
       "    </tr>\n",
       "    <tr>\n",
       "      <th>1409616</th>\n",
       "      <td>2.0</td>\n",
       "      <td>2020-10-30 10:40:17</td>\n",
       "      <td>2020-10-30 10:56:15</td>\n",
       "      <td>1.0</td>\n",
       "      <td>2.04</td>\n",
       "      <td>99.0</td>\n",
       "      <td>N</td>\n",
       "      <td>236</td>\n",
       "      <td>140</td>\n",
       "      <td>2.0</td>\n",
       "      <td>11.5</td>\n",
       "      <td>0.0</td>\n",
       "      <td>0.5</td>\n",
       "      <td>0.00</td>\n",
       "      <td>0.0</td>\n",
       "      <td>0.3</td>\n",
       "      <td>14.80</td>\n",
       "      <td>2.5</td>\n",
       "    </tr>\n",
       "    <tr>\n",
       "      <th>1409617</th>\n",
       "      <td>2.0</td>\n",
       "      <td>2020-10-30 15:35:28</td>\n",
       "      <td>2020-10-30 15:45:24</td>\n",
       "      <td>1.0</td>\n",
       "      <td>1.68</td>\n",
       "      <td>99.0</td>\n",
       "      <td>N</td>\n",
       "      <td>236</td>\n",
       "      <td>238</td>\n",
       "      <td>2.0</td>\n",
       "      <td>9.0</td>\n",
       "      <td>0.0</td>\n",
       "      <td>0.5</td>\n",
       "      <td>0.00</td>\n",
       "      <td>0.0</td>\n",
       "      <td>0.3</td>\n",
       "      <td>12.30</td>\n",
       "      <td>2.5</td>\n",
       "    </tr>\n",
       "  </tbody>\n",
       "</table>\n",
       "<p>1409618 rows × 18 columns</p>\n",
       "</div>"
      ],
      "text/plain": [
       "         VendorID tpep_pickup_datetime tpep_dropoff_datetime  passenger_count  \\\n",
       "0             1.0  2020-10-01 00:09:19   2020-10-01 00:19:46              1.0   \n",
       "1             1.0  2020-10-01 00:30:00   2020-10-01 00:39:05              1.0   \n",
       "2             1.0  2020-10-01 00:31:00   2020-10-01 00:37:58              1.0   \n",
       "3             1.0  2020-10-01 00:37:04   2020-10-01 00:39:07              0.0   \n",
       "4             1.0  2020-10-01 00:38:44   2020-10-01 00:51:40              1.0   \n",
       "...           ...                  ...                   ...              ...   \n",
       "1409613       2.0  2020-10-27 12:44:48   2020-10-27 12:54:42              1.0   \n",
       "1409614       2.0  2020-10-28 07:52:13   2020-10-28 07:58:51              1.0   \n",
       "1409615       2.0  2020-10-29 10:50:33   2020-10-29 11:06:54              1.0   \n",
       "1409616       2.0  2020-10-30 10:40:17   2020-10-30 10:56:15              1.0   \n",
       "1409617       2.0  2020-10-30 15:35:28   2020-10-30 15:45:24              1.0   \n",
       "\n",
       "         trip_distance  RatecodeID store_and_fwd_flag  PULocationID  \\\n",
       "0                 2.00         1.0                  Y           238   \n",
       "1                 2.10         1.0                  N           264   \n",
       "2                 1.50         1.0                  N            95   \n",
       "3                 0.80         1.0                  N           239   \n",
       "4                 3.80         1.0                  N           141   \n",
       "...                ...         ...                ...           ...   \n",
       "1409613           0.83        99.0                  N           246   \n",
       "1409614           0.97        99.0                  N           166   \n",
       "1409615           1.93        99.0                  N           230   \n",
       "1409616           2.04        99.0                  N           236   \n",
       "1409617           1.68        99.0                  N           236   \n",
       "\n",
       "         DOLocationID  payment_type  fare_amount  extra  mta_tax  tip_amount  \\\n",
       "0                 143           2.0          9.5    3.0      0.5        0.00   \n",
       "1                 230           1.0          9.0    3.0      0.5        2.56   \n",
       "2                 102           2.0          7.5    0.5      0.5        0.00   \n",
       "3                 238           1.0          4.5    3.0      0.5        1.65   \n",
       "4                 260           2.0         13.0    3.0      0.5        0.00   \n",
       "...               ...           ...          ...    ...      ...         ...   \n",
       "1409613           186           2.0          7.5    0.0      0.5        0.00   \n",
       "1409614            43           2.0          6.0    0.0      0.5        0.00   \n",
       "1409615           107           2.0         11.5    0.0      0.5        0.00   \n",
       "1409616           140           2.0         11.5    0.0      0.5        0.00   \n",
       "1409617           238           2.0          9.0    0.0      0.5        0.00   \n",
       "\n",
       "         tolls_amount  improvement_surcharge  total_amount  \\\n",
       "0                 0.0                    0.3         13.30   \n",
       "1                 0.0                    0.3         15.36   \n",
       "2                 0.0                    0.3          8.80   \n",
       "3                 0.0                    0.3          9.95   \n",
       "4                 0.0                    0.3         16.80   \n",
       "...               ...                    ...           ...   \n",
       "1409613           0.0                    0.3         10.80   \n",
       "1409614           0.0                    0.3          6.80   \n",
       "1409615           0.0                    0.3         14.80   \n",
       "1409616           0.0                    0.3         14.80   \n",
       "1409617           0.0                    0.3         12.30   \n",
       "\n",
       "         congestion_surcharge  \n",
       "0                         2.5  \n",
       "1                         2.5  \n",
       "2                         0.0  \n",
       "3                         2.5  \n",
       "4                         2.5  \n",
       "...                       ...  \n",
       "1409613                   2.5  \n",
       "1409614                   0.0  \n",
       "1409615                   2.5  \n",
       "1409616                   2.5  \n",
       "1409617                   2.5  \n",
       "\n",
       "[1409618 rows x 18 columns]"
      ]
     },
     "execution_count": 18,
     "metadata": {},
     "output_type": "execute_result"
    }
   ],
   "source": [
    "df4"
   ]
  },
  {
   "cell_type": "code",
   "execution_count": 19,
   "metadata": {},
   "outputs": [
    {
     "data": {
      "text/plain": [
       "VendorID                 float64\n",
       "tpep_pickup_datetime      object\n",
       "tpep_dropoff_datetime     object\n",
       "passenger_count          float64\n",
       "trip_distance            float64\n",
       "RatecodeID               float64\n",
       "store_and_fwd_flag        object\n",
       "PULocationID               int64\n",
       "DOLocationID               int64\n",
       "payment_type             float64\n",
       "fare_amount              float64\n",
       "extra                    float64\n",
       "mta_tax                  float64\n",
       "tip_amount               float64\n",
       "tolls_amount             float64\n",
       "improvement_surcharge    float64\n",
       "total_amount             float64\n",
       "congestion_surcharge     float64\n",
       "dtype: object"
      ]
     },
     "execution_count": 19,
     "metadata": {},
     "output_type": "execute_result"
    }
   ],
   "source": [
    "df4.dtypes"
   ]
  },
  {
   "cell_type": "code",
   "execution_count": 20,
   "metadata": {},
   "outputs": [],
   "source": [
    "index_names = df4[ df4['RatecodeID'] == 99.0 ].index "
   ]
  },
  {
   "cell_type": "code",
   "execution_count": 21,
   "metadata": {},
   "outputs": [],
   "source": [
    "drop_A=df4.index[df4['RatecodeID'] == 99.0].tolist()\n",
    "df5=df4.drop(df.index[drop_A])"
   ]
  },
  {
   "cell_type": "code",
   "execution_count": 22,
   "metadata": {},
   "outputs": [
    {
     "data": {
      "text/plain": [
       "(1409601, 18)"
      ]
     },
     "execution_count": 22,
     "metadata": {},
     "output_type": "execute_result"
    }
   ],
   "source": [
    "df5.shape"
   ]
  },
  {
   "cell_type": "code",
   "execution_count": 23,
   "metadata": {},
   "outputs": [
    {
     "data": {
      "text/plain": [
       "count    1.409601e+06\n",
       "mean     1.002819e+00\n",
       "std      1.035850e-01\n",
       "min      1.000000e+00\n",
       "25%      1.000000e+00\n",
       "50%      1.000000e+00\n",
       "75%      1.000000e+00\n",
       "max      6.000000e+00\n",
       "Name: RatecodeID, dtype: float64"
      ]
     },
     "execution_count": 23,
     "metadata": {},
     "output_type": "execute_result"
    }
   ],
   "source": [
    "df5.RatecodeID.describe()"
   ]
  },
  {
   "cell_type": "code",
   "execution_count": 24,
   "metadata": {},
   "outputs": [
    {
     "data": {
      "image/png": "[encoded data removed]",
      "text/plain": [
       "<Figure size 1440x720 with 2 Axes>"
      ]
     },
     "metadata": {
      "needs_background": "light"
     },
     "output_type": "display_data"
    },
    {
     "data": {
      "text/plain": [
       "<Figure size 720x720 with 0 Axes>"
      ]
     },
     "metadata": {},
     "output_type": "display_data"
    }
   ],
   "source": [
    "import seaborn as sns\n",
    "sns.heatmap(df5.corr(), annot=True) \n",
    "plt.figure(figsize=(10,10))\n",
    "plt.show()"
   ]
  },
  {
   "cell_type": "code",
   "execution_count": 25,
   "metadata": {},
   "outputs": [],
   "source": [
    "df6 = df5.assign(final_amount= (df5.fare_amount + df5.extra + df5.mta_tax + df5.tip_amount + df5.tolls_amount + df5.improvement_surcharge + df5.congestion_surcharge )) "
   ]
  },
  {
   "cell_type": "code",
   "execution_count": 26,
   "metadata": {},
   "outputs": [],
   "source": [
    "df7 = df6.drop(['extra' , 'mta_tax' , 'tip_amount' , 'tolls_amount' , 'improvement_surcharge' , 'total_amount' , 'congestion_surcharge'] , axis=1)"
   ]
  },
  {
   "cell_type": "code",
   "execution_count": 27,
   "metadata": {},
   "outputs": [
    {
     "data": {
      "text/html": [
       "<div>\n",
       "<style scoped>\n",
       "    .dataframe tbody tr th:only-of-type {\n",
       "        vertical-align: middle;\n",
       "    }\n",
       "\n",
       "    .dataframe tbody tr th {\n",
       "        vertical-align: top;\n",
       "    }\n",
       "\n",
       "    .dataframe thead th {\n",
       "        text-align: right;\n",
       "    }\n",
       "</style>\n",
       "<table border=\"1\" class=\"dataframe\">\n",
       "  <thead>\n",
       "    <tr style=\"text-align: right;\">\n",
       "      <th></th>\n",
       "      <th>VendorID</th>\n",
       "      <th>tpep_pickup_datetime</th>\n",
       "      <th>tpep_dropoff_datetime</th>\n",
       "      <th>passenger_count</th>\n",
       "      <th>trip_distance</th>\n",
       "      <th>RatecodeID</th>\n",
       "      <th>store_and_fwd_flag</th>\n",
       "      <th>PULocationID</th>\n",
       "      <th>DOLocationID</th>\n",
       "      <th>payment_type</th>\n",
       "      <th>fare_amount</th>\n",
       "      <th>final_amount</th>\n",
       "    </tr>\n",
       "  </thead>\n",
       "  <tbody>\n",
       "    <tr>\n",
       "      <th>0</th>\n",
       "      <td>1.0</td>\n",
       "      <td>2020-10-01 00:09:19</td>\n",
       "      <td>2020-10-01 00:19:46</td>\n",
       "      <td>1.0</td>\n",
       "      <td>2.00</td>\n",
       "      <td>1.0</td>\n",
       "      <td>Y</td>\n",
       "      <td>238</td>\n",
       "      <td>143</td>\n",
       "      <td>2.0</td>\n",
       "      <td>9.50</td>\n",
       "      <td>15.80</td>\n",
       "    </tr>\n",
       "    <tr>\n",
       "      <th>1</th>\n",
       "      <td>1.0</td>\n",
       "      <td>2020-10-01 00:30:00</td>\n",
       "      <td>2020-10-01 00:39:05</td>\n",
       "      <td>1.0</td>\n",
       "      <td>2.10</td>\n",
       "      <td>1.0</td>\n",
       "      <td>N</td>\n",
       "      <td>264</td>\n",
       "      <td>230</td>\n",
       "      <td>1.0</td>\n",
       "      <td>9.00</td>\n",
       "      <td>17.86</td>\n",
       "    </tr>\n",
       "    <tr>\n",
       "      <th>2</th>\n",
       "      <td>1.0</td>\n",
       "      <td>2020-10-01 00:31:00</td>\n",
       "      <td>2020-10-01 00:37:58</td>\n",
       "      <td>1.0</td>\n",
       "      <td>1.50</td>\n",
       "      <td>1.0</td>\n",
       "      <td>N</td>\n",
       "      <td>95</td>\n",
       "      <td>102</td>\n",
       "      <td>2.0</td>\n",
       "      <td>7.50</td>\n",
       "      <td>8.80</td>\n",
       "    </tr>\n",
       "    <tr>\n",
       "      <th>3</th>\n",
       "      <td>1.0</td>\n",
       "      <td>2020-10-01 00:37:04</td>\n",
       "      <td>2020-10-01 00:39:07</td>\n",
       "      <td>0.0</td>\n",
       "      <td>0.80</td>\n",
       "      <td>1.0</td>\n",
       "      <td>N</td>\n",
       "      <td>239</td>\n",
       "      <td>238</td>\n",
       "      <td>1.0</td>\n",
       "      <td>4.50</td>\n",
       "      <td>12.45</td>\n",
       "    </tr>\n",
       "    <tr>\n",
       "      <th>4</th>\n",
       "      <td>1.0</td>\n",
       "      <td>2020-10-01 00:38:44</td>\n",
       "      <td>2020-10-01 00:51:40</td>\n",
       "      <td>1.0</td>\n",
       "      <td>3.80</td>\n",
       "      <td>1.0</td>\n",
       "      <td>N</td>\n",
       "      <td>141</td>\n",
       "      <td>260</td>\n",
       "      <td>2.0</td>\n",
       "      <td>13.00</td>\n",
       "      <td>19.30</td>\n",
       "    </tr>\n",
       "    <tr>\n",
       "      <th>...</th>\n",
       "      <td>...</td>\n",
       "      <td>...</td>\n",
       "      <td>...</td>\n",
       "      <td>...</td>\n",
       "      <td>...</td>\n",
       "      <td>...</td>\n",
       "      <td>...</td>\n",
       "      <td>...</td>\n",
       "      <td>...</td>\n",
       "      <td>...</td>\n",
       "      <td>...</td>\n",
       "      <td>...</td>\n",
       "    </tr>\n",
       "    <tr>\n",
       "      <th>1409596</th>\n",
       "      <td>2.0</td>\n",
       "      <td>2020-10-31 19:54:02</td>\n",
       "      <td>2020-10-31 20:09:10</td>\n",
       "      <td>1.0</td>\n",
       "      <td>3.42</td>\n",
       "      <td>5.0</td>\n",
       "      <td>N</td>\n",
       "      <td>75</td>\n",
       "      <td>142</td>\n",
       "      <td>1.0</td>\n",
       "      <td>16.69</td>\n",
       "      <td>22.39</td>\n",
       "    </tr>\n",
       "    <tr>\n",
       "      <th>1409597</th>\n",
       "      <td>2.0</td>\n",
       "      <td>2020-10-31 19:26:19</td>\n",
       "      <td>2020-10-31 19:27:48</td>\n",
       "      <td>1.0</td>\n",
       "      <td>0.01</td>\n",
       "      <td>5.0</td>\n",
       "      <td>N</td>\n",
       "      <td>168</td>\n",
       "      <td>168</td>\n",
       "      <td>1.0</td>\n",
       "      <td>9.00</td>\n",
       "      <td>9.80</td>\n",
       "    </tr>\n",
       "    <tr>\n",
       "      <th>1409598</th>\n",
       "      <td>2.0</td>\n",
       "      <td>2020-10-31 22:19:02</td>\n",
       "      <td>2020-10-31 22:27:56</td>\n",
       "      <td>1.0</td>\n",
       "      <td>2.22</td>\n",
       "      <td>5.0</td>\n",
       "      <td>N</td>\n",
       "      <td>166</td>\n",
       "      <td>75</td>\n",
       "      <td>1.0</td>\n",
       "      <td>9.98</td>\n",
       "      <td>12.16</td>\n",
       "    </tr>\n",
       "    <tr>\n",
       "      <th>1409599</th>\n",
       "      <td>1.0</td>\n",
       "      <td>2020-10-22 09:39:01</td>\n",
       "      <td>2020-10-22 10:04:02</td>\n",
       "      <td>1.0</td>\n",
       "      <td>0.50</td>\n",
       "      <td>6.0</td>\n",
       "      <td>N</td>\n",
       "      <td>239</td>\n",
       "      <td>140</td>\n",
       "      <td>2.0</td>\n",
       "      <td>2.50</td>\n",
       "      <td>3.30</td>\n",
       "    </tr>\n",
       "    <tr>\n",
       "      <th>1409600</th>\n",
       "      <td>2.0</td>\n",
       "      <td>2020-10-13 15:28:35</td>\n",
       "      <td>2020-10-13 15:28:44</td>\n",
       "      <td>1.0</td>\n",
       "      <td>0.01</td>\n",
       "      <td>6.0</td>\n",
       "      <td>N</td>\n",
       "      <td>141</td>\n",
       "      <td>141</td>\n",
       "      <td>2.0</td>\n",
       "      <td>3.50</td>\n",
       "      <td>5.05</td>\n",
       "    </tr>\n",
       "  </tbody>\n",
       "</table>\n",
       "<p>1409601 rows × 12 columns</p>\n",
       "</div>"
      ],
      "text/plain": [
       "         VendorID tpep_pickup_datetime tpep_dropoff_datetime  passenger_count  \\\n",
       "0             1.0  2020-10-01 00:09:19   2020-10-01 00:19:46              1.0   \n",
       "1             1.0  2020-10-01 00:30:00   2020-10-01 00:39:05              1.0   \n",
       "2             1.0  2020-10-01 00:31:00   2020-10-01 00:37:58              1.0   \n",
       "3             1.0  2020-10-01 00:37:04   2020-10-01 00:39:07              0.0   \n",
       "4             1.0  2020-10-01 00:38:44   2020-10-01 00:51:40              1.0   \n",
       "...           ...                  ...                   ...              ...   \n",
       "1409596       2.0  2020-10-31 19:54:02   2020-10-31 20:09:10              1.0   \n",
       "1409597       2.0  2020-10-31 19:26:19   2020-10-31 19:27:48              1.0   \n",
       "1409598       2.0  2020-10-31 22:19:02   2020-10-31 22:27:56              1.0   \n",
       "1409599       1.0  2020-10-22 09:39:01   2020-10-22 10:04:02              1.0   \n",
       "1409600       2.0  2020-10-13 15:28:35   2020-10-13 15:28:44              1.0   \n",
       "\n",
       "         trip_distance  RatecodeID store_and_fwd_flag  PULocationID  \\\n",
       "0                 2.00         1.0                  Y           238   \n",
       "1                 2.10         1.0                  N           264   \n",
       "2                 1.50         1.0                  N            95   \n",
       "3                 0.80         1.0                  N           239   \n",
       "4                 3.80         1.0                  N           141   \n",
       "...                ...         ...                ...           ...   \n",
       "1409596           3.42         5.0                  N            75   \n",
       "1409597           0.01         5.0                  N           168   \n",
       "1409598           2.22         5.0                  N           166   \n",
       "1409599           0.50         6.0                  N           239   \n",
       "1409600           0.01         6.0                  N           141   \n",
       "\n",
       "         DOLocationID  payment_type  fare_amount  final_amount  \n",
       "0                 143           2.0         9.50         15.80  \n",
       "1                 230           1.0         9.00         17.86  \n",
       "2                 102           2.0         7.50          8.80  \n",
       "3                 238           1.0         4.50         12.45  \n",
       "4                 260           2.0        13.00         19.30  \n",
       "...               ...           ...          ...           ...  \n",
       "1409596           142           1.0        16.69         22.39  \n",
       "1409597           168           1.0         9.00          9.80  \n",
       "1409598            75           1.0         9.98         12.16  \n",
       "1409599           140           2.0         2.50          3.30  \n",
       "1409600           141           2.0         3.50          5.05  \n",
       "\n",
       "[1409601 rows x 12 columns]"
      ]
     },
     "execution_count": 27,
     "metadata": {},
     "output_type": "execute_result"
    }
   ],
   "source": [
    "df7"
   ]
  },
  {
   "cell_type": "code",
   "execution_count": 28,
   "metadata": {},
   "outputs": [
    {
     "data": {
      "image/png": "[encoded data removed]",
      "text/plain": [
       "<Figure size 1440x720 with 1 Axes>"
      ]
     },
     "metadata": {
      "needs_background": "light"
     },
     "output_type": "display_data"
    }
   ],
   "source": [
    "plt.scatter(df7.final_amount, df7.trip_distance)\n",
    "plt.xlabel('final_amount')\n",
    "plt.ylabel('trip_distance')\n",
    "plt.title('t v d')\n",
    "plt.show()"
   ]
  },
  {
   "cell_type": "code",
   "execution_count": 29,
   "metadata": {},
   "outputs": [
    {
     "data": {
      "text/plain": [
       "(1181556, 12)"
      ]
     },
     "execution_count": 29,
     "metadata": {},
     "output_type": "execute_result"
    }
   ],
   "source": [
    "def remove_pps_outliers(df7):\n",
    "    df_out = pd.DataFrame()\n",
    "    for key, subdf7 in df7.groupby('VendorID'):\n",
    "        m = np.mean(subdf7.final_amount)\n",
    "        st = np.std(subdf7.final_amount)\n",
    "        reduced_df = subdf7[(subdf7.final_amount> 0 ) & (subdf7.final_amount<=(m+st))]\n",
    "        df_out = pd.concat([df_out,reduced_df],ignore_index=True)\n",
    "    return df_out\n",
    "df8 = remove_pps_outliers(df7)\n",
    "df8.shape"
   ]
  },
  {
   "cell_type": "code",
   "execution_count": 30,
   "metadata": {},
   "outputs": [
    {
     "data": {
      "text/plain": [
       "count    1.181556e+06\n",
       "mean     1.339453e+01\n",
       "std      3.353124e+00\n",
       "min      3.000000e-01\n",
       "25%      1.090000e+01\n",
       "50%      1.330000e+01\n",
       "75%      1.580000e+01\n",
       "max      2.188000e+01\n",
       "Name: final_amount, dtype: float64"
      ]
     },
     "execution_count": 30,
     "metadata": {},
     "output_type": "execute_result"
    }
   ],
   "source": [
    "df8.final_amount.describe()"
   ]
  },
  {
   "cell_type": "code",
   "execution_count": 31,
   "metadata": {},
   "outputs": [
    {
     "data": {
      "image/png": "[encoded data removed]",
      "text/plain": [
       "<Figure size 1440x720 with 1 Axes>"
      ]
     },
     "metadata": {
      "needs_background": "light"
     },
     "output_type": "display_data"
    }
   ],
   "source": [
    "plt.scatter(df8.final_amount, df8.trip_distance)\n",
    "plt.xlabel('final_amount')\n",
    "plt.ylabel('trip_distance')\n",
    "plt.title('t v d')\n",
    "plt.show()"
   ]
  }
 ],
 "metadata": {
  "kernelspec": {
   "display_name": "Python 3",
   "language": "python",
   "name": "python3"
  },
  "language_info": {
   "codemirror_mode": {
    "name": "ipython",
    "version": 3
   },
   "file_extension": ".py",
   "mimetype": "text/x-python",
   "name": "python",
   "nbconvert_exporter": "python",
   "pygments_lexer": "ipython3",
   "version": "3.8.3"
  }
 },
 "nbformat": 4,
 "nbformat_minor": 2
}
